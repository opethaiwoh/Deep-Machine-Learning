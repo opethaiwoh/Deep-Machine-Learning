{
  "cells": [
    {
      "cell_type": "markdown",
      "metadata": {
        "id": "view-in-github",
        "colab_type": "text"
      },
      "source": [
        "<a href=\"https://colab.research.google.com/github/opethaiwoh/Deep-Machine-Learning/blob/main/Deep_Learning_Opeyemi_Adeniran.ipynb\" target=\"_parent\"><img src=\"https://colab.research.google.com/assets/colab-badge.svg\" alt=\"Open In Colab\"/></a>"
      ]
    },
    {
      "cell_type": "code",
      "execution_count": null,
      "id": "c1fc9e07",
      "metadata": {
        "id": "c1fc9e07"
      },
      "outputs": [],
      "source": [
        "pip install keras"
      ]
    },
    {
      "cell_type": "code",
      "execution_count": null,
      "id": "c6b645ed",
      "metadata": {
        "id": "c6b645ed"
      },
      "outputs": [],
      "source": [
        "pip install tensorflow"
      ]
    },
    {
      "cell_type": "code",
      "execution_count": null,
      "id": "74cead74",
      "metadata": {
        "id": "74cead74"
      },
      "outputs": [],
      "source": [
        "pip install openpyxl"
      ]
    },
    {
      "cell_type": "code",
      "execution_count": null,
      "id": "b6f19f0d",
      "metadata": {
        "id": "b6f19f0d"
      },
      "outputs": [],
      "source": [
        "pip install xlrd"
      ]
    },
    {
      "cell_type": "code",
      "execution_count": null,
      "id": "2e1b661e",
      "metadata": {
        "id": "2e1b661e"
      },
      "outputs": [],
      "source": [
        "# Dependencies\n",
        "\n",
        "# Standard Dependencies\n",
        "import os\n",
        "import numpy as np\n",
        "import pandas as pd\n",
        "from math import sqrt\n",
        "\n",
        "# Visualization\n",
        "from pylab import *\n",
        "import matplotlib.mlab as mlab\n",
        "import matplotlib.pyplot as plt\n",
        "import seaborn as sns\n",
        "\n",
        "# Statistics\n",
        "from statistics import median\n",
        "from scipy import signal\n",
        "#from scipy.misc import factorial\n",
        "import scipy.stats as stats\n",
        "from scipy.stats import sem, binom, lognorm, poisson, bernoulli, spearmanr\n",
        "from scipy.fftpack import fft, fftshift\n",
        "\n",
        "# Deep Learning\n",
        "from sklearn.preprocessing import QuantileTransformer\n",
        "from sklearn.model_selection import GridSearchCV\n",
        "from keras.models import Sequential\n",
        "from keras.layers import Dense\n",
        "from keras.layers import Dropout\n",
        "from keras.wrappers.scikit_learn import KerasClassifier\n",
        "from tensorflow.keras.optimizers import SGD, Adam, Nadam, RMSprop, Adadelta, Adagrad, Adamax, Ftrl\n",
        "from keras.constraints import maxnorm\n",
        "from sklearn.preprocessing import MinMaxScaler"
      ]
    },
    {
      "cell_type": "code",
      "execution_count": null,
      "id": "93b4fb73",
      "metadata": {
        "id": "93b4fb73"
      },
      "outputs": [],
      "source": [
        "os.environ['TF_CPP_MIN_LOG_LEVEL'] = '2'\n",
        "from keras.preprocessing.image import ImageDataGenerator"
      ]
    },
    {
      "cell_type": "markdown",
      "id": "3a95148d",
      "metadata": {
        "id": "3a95148d"
      },
      "source": [
        "# About glass data\n",
        "#URL: https://github.com/jbrownlee/Datasets/blob/master/glass.names\n",
        "\n",
        "Explanation: The study of classification of types of glass was motivated by criminological investigation.  At the scene of the crime, the glass left can be used as evidence...if it is correctly identified!"
      ]
    },
    {
      "cell_type": "code",
      "execution_count": null,
      "id": "31d02588",
      "metadata": {
        "id": "31d02588"
      },
      "outputs": [],
      "source": [
        "# Loading the dataset\n",
        "df = pd.read_csv('glass.csv', names=['Refractive Index', 'Sodium', 'Magnesium', 'Aluminium',\n",
        "                                    'Silicon', 'Potassium', 'Calcium', 'Barium',\n",
        "                                    'Iron', 'Class'])\n",
        "df"
      ]
    },
    {
      "cell_type": "markdown",
      "id": "d50782a7",
      "metadata": {
        "id": "d50782a7"
      },
      "source": [
        "# Data preprocessing"
      ]
    },
    {
      "cell_type": "code",
      "execution_count": null,
      "id": "59cd9318",
      "metadata": {
        "id": "59cd9318"
      },
      "outputs": [],
      "source": [
        "#To Test if Any Values Need to Dropped\n",
        "df_copy = df.copy(deep = True)\n",
        "df_copy[['Refractive Index', 'Sodium', 'Magnesium', 'Aluminium',\n",
        "                                    'Silicon', 'Potassium', 'Calcium', 'Barium',\n",
        "                                    'Iron', 'Class']].replace(0,np.NaN) \n",
        "\n",
        "print(df_copy.isnull().sum())"
      ]
    },
    {
      "cell_type": "code",
      "execution_count": null,
      "id": "fb8c8694",
      "metadata": {
        "id": "fb8c8694"
      },
      "outputs": [],
      "source": [
        "#Using standard sclae helps us to get all values centered around the mean with a unit standard deviation\n",
        "from sklearn import preprocessing\n",
        "sc=preprocessing.StandardScaler()"
      ]
    },
    {
      "cell_type": "markdown",
      "id": "a751b54d",
      "metadata": {
        "id": "a751b54d"
      },
      "source": [
        "### Checking if the variables are all numeric"
      ]
    },
    {
      "cell_type": "code",
      "execution_count": null,
      "id": "1b8fcc2a",
      "metadata": {
        "id": "1b8fcc2a"
      },
      "outputs": [],
      "source": [
        "df.apply(lambda s: pd.to_numeric(s, errors='coerce').notnull().all())"
      ]
    },
    {
      "cell_type": "markdown",
      "id": "69c15e78",
      "metadata": {
        "id": "69c15e78"
      },
      "source": [
        "### Checking if the variables use a consistent scale."
      ]
    },
    {
      "cell_type": "code",
      "execution_count": null,
      "id": "0e0999f2",
      "metadata": {
        "id": "0e0999f2"
      },
      "outputs": [],
      "source": [
        "(df.info())"
      ]
    },
    {
      "cell_type": "markdown",
      "id": "28215f90",
      "metadata": {
        "id": "28215f90"
      },
      "source": [
        "# The overall statistics of the dataset"
      ]
    },
    {
      "cell_type": "code",
      "execution_count": null,
      "id": "2eb64206",
      "metadata": {
        "scrolled": true,
        "id": "2eb64206"
      },
      "outputs": [],
      "source": [
        "df_stat = df.describe()\n",
        "print (\"Overall Statistics\", \"\\n\", df_stat, \"\\n\")"
      ]
    },
    {
      "cell_type": "markdown",
      "id": "aa092086",
      "metadata": {
        "id": "aa092086"
      },
      "source": [
        "# A visualization of one or more of features using bar chart"
      ]
    },
    {
      "cell_type": "code",
      "execution_count": null,
      "id": "b5078170",
      "metadata": {
        "id": "b5078170"
      },
      "outputs": [],
      "source": [
        "# Bar chart\n",
        "df[['Refractive Index', 'Sodium', 'Magnesium', 'Aluminium',\n",
        "                                    'Silicon', 'Potassium', 'Calcium', 'Barium',\n",
        "                                    'Iron']].hist(figsize = (10,10))"
      ]
    },
    {
      "cell_type": "markdown",
      "id": "7c05cfa5",
      "metadata": {
        "id": "7c05cfa5"
      },
      "source": [
        "### Drop all the rows with missing values"
      ]
    },
    {
      "cell_type": "code",
      "execution_count": null,
      "id": "5a831d50",
      "metadata": {
        "id": "5a831d50"
      },
      "outputs": [],
      "source": [
        "df = df.replace(r'^\\s*$', np.nan, regex=True)\n",
        "df.dropna()\n",
        "df"
      ]
    },
    {
      "cell_type": "markdown",
      "id": "93b37a30",
      "metadata": {
        "id": "93b37a30"
      },
      "source": [
        "# Checking for outliers"
      ]
    },
    {
      "cell_type": "code",
      "execution_count": null,
      "id": "e4183562",
      "metadata": {
        "id": "e4183562"
      },
      "outputs": [],
      "source": [
        "df1 = pd.DataFrame(data = df, columns = ['Refractive Index', 'Sodium', 'Magnesium', 'Aluminium',\n",
        "                                    'Silicon'])\n",
        "\n",
        "sns.boxplot(x=\"variable\", y=\"value\", data=pd.melt(df1))\n",
        "\n",
        "plt.show()"
      ]
    },
    {
      "cell_type": "code",
      "execution_count": null,
      "id": "4670e4da",
      "metadata": {
        "id": "4670e4da"
      },
      "outputs": [],
      "source": [
        "# Detecting Outliers - Part 2\n",
        "import numpy as np; np.random.seed(42)\n",
        "import pandas as pd\n",
        "import matplotlib.pyplot as plt\n",
        "import seaborn as sns\n",
        "\n",
        "df2 = pd.DataFrame(data = df, columns = [ 'Potassium', 'Calcium', 'Barium',\n",
        "                                    'Iron'])\n",
        "\n",
        "sns.boxplot(x=\"variable\", y=\"value\", data=pd.melt(df2))\n",
        "\n",
        "plt.show()"
      ]
    },
    {
      "cell_type": "code",
      "execution_count": null,
      "id": "088e2a01",
      "metadata": {
        "id": "088e2a01"
      },
      "outputs": [],
      "source": [
        "# Detecting Outliers\n",
        "z=np.abs(stats.zscore(df))\n",
        "print(z)\n",
        "print(df.shape)\n",
        "print(\"\\n\")\n",
        "# Where the outliers are:\n",
        "print(np.where(z > 3))\n",
        "print(\"\\n\")\n",
        "Q1=df.quantile(0.25)\n",
        "Q3=df.quantile(0.75)\n",
        "IQR=Q3-Q1\n",
        "lowqe_bound=Q1 - 1.5 * IQR\n",
        "upper_bound=Q3 + 1.5 * IQR\n",
        "print(\"IQR range: \", \"\\n\", lowqe_bound,\"\\n\", upper_bound)\n",
        "# Transforming Outliers\n",
        "Otl_df = df[(np.abs(stats.zscore(df)) < 3).all(axis=1)]\n",
        "print(Otl_df.shape)"
      ]
    },
    {
      "cell_type": "markdown",
      "id": "74b867a9",
      "metadata": {
        "id": "74b867a9"
      },
      "source": [
        "# Choosing a target variable"
      ]
    },
    {
      "cell_type": "code",
      "execution_count": null,
      "id": "5b4ec329",
      "metadata": {
        "id": "5b4ec329"
      },
      "outputs": [],
      "source": [
        "x= Otl_df.iloc[:,0:9]\n",
        "y= Otl_df.iloc[:,9]"
      ]
    },
    {
      "cell_type": "code",
      "execution_count": null,
      "id": "f68dbc2d",
      "metadata": {
        "id": "f68dbc2d"
      },
      "outputs": [],
      "source": [
        "x.head()"
      ]
    },
    {
      "cell_type": "code",
      "execution_count": null,
      "id": "00c7e15d",
      "metadata": {
        "id": "00c7e15d"
      },
      "outputs": [],
      "source": [
        "y.head()"
      ]
    },
    {
      "cell_type": "code",
      "execution_count": null,
      "id": "c78f6baa",
      "metadata": {
        "id": "c78f6baa"
      },
      "outputs": [],
      "source": [
        "(Otl_df.info())"
      ]
    },
    {
      "cell_type": "markdown",
      "id": "f461b1e3",
      "metadata": {
        "id": "f461b1e3"
      },
      "source": [
        "# The accuracy of your initial DL model."
      ]
    },
    {
      "cell_type": "code",
      "execution_count": null,
      "id": "b2e90487",
      "metadata": {
        "scrolled": false,
        "id": "b2e90487"
      },
      "outputs": [],
      "source": [
        "#Initialize the network\n",
        "scalar = MinMaxScaler()\n",
        "scalar.fit(x)\n",
        "x = scalar.transform(x)\n",
        "model = Sequential()\n",
        "model.add(Dense(12, input_dim=9, activation='relu'))\n",
        "model.add(Dense(8, activation='relu'))\n",
        "model.add(Dense(1, activation='sigmoid'))\n",
        "#Build it\n",
        "model.compile(loss='binary_crossentropy', optimizer='adam', metrics=['accuracy'])\n",
        "#Train it\n",
        "model.fit(x, y, epochs=25, batch_size=10)\n",
        "# Evaluate it\n",
        "_, accuracy = model.evaluate(x, y)\n",
        "print('Accuracy: %.2f' % (accuracy*100)) # We only show the accuracy\n",
        "# make a prediction\n",
        "Xnew = scalar.transform(x)\n",
        "predictions = (model.predict(x) > 0.5).astype(int)\n",
        "# show the inputs and predicted outputs\n",
        "\n",
        "for i in range(len(x)):\n",
        "\tprint(\"X=%s, Predicted=%s\" % (Xnew[i].tolist(), predictions[i]))"
      ]
    },
    {
      "cell_type": "markdown",
      "id": "166a57e6",
      "metadata": {
        "id": "166a57e6"
      },
      "source": [
        "# Tuned the following hyperparameters of the DL model"
      ]
    },
    {
      "cell_type": "code",
      "execution_count": null,
      "id": "68772915",
      "metadata": {
        "id": "68772915"
      },
      "outputs": [],
      "source": [
        "# Load the model\n",
        "def create_model(activation='sigmoid', learn_rate=0.2, momentum=0, neurons=1, optimizer_list='adam', init_mode='uniform'):\n",
        "\tmodel = Sequential()\n",
        "\tmodel.add(Dense(neurons, input_dim=9, kernel_initializer=init_mode, activation=activation, kernel_constraint=maxnorm(4)))\n",
        "\tmodel.add(Dropout(0.5))\n",
        "\tmodel.add(Dense(12, kernel_initializer=init_mode, activation='relu'))\n",
        "\tmodel.add(Dense(8, kernel_initializer=init_mode, activation='relu'))\n",
        "\tmodel.add(Dense(1, kernel_initializer=init_mode, activation=activation))\n",
        "\t# Compile model\n",
        "\ttry:\n",
        "\t\toptimizer = optimizer_list(learning_rate = learn_rate, momentum = momentum)\n",
        "\texcept TypeError:\n",
        "\t\toptimizer = optimizer_list(learning_rate = learn_rate)\n",
        "\tmodel.compile(loss='binary_crossentropy', optimizer=optimizer, metrics=['accuracy'])\n",
        "\treturn model\n",
        "# fix random seed for reproducibility\n",
        "seed = 7\n",
        "np.random.seed(seed)"
      ]
    },
    {
      "cell_type": "code",
      "execution_count": null,
      "id": "7c3d9cd2",
      "metadata": {
        "id": "7c3d9cd2"
      },
      "outputs": [],
      "source": [
        "# Creating the model\n",
        "model = KerasClassifier(build_fn=create_model, epochs=50, verbose=0)\n",
        "param_grid = {\n",
        "    'activation': ['linear', 'sigmoid'],\n",
        "    'learn_rate': [0.1, 0.2],\n",
        "    'momentum': [0.1, 0.2],\n",
        "    'neurons': [1, 5],\n",
        "    'optimizer_list': [SGD, Adagrad],\n",
        "    'init_mode': ['uniform', 'zero'],\n",
        "    'epochs': [25, 35],\n",
        "    'batch_size': [5, 2]\n",
        "    }\n",
        "\n",
        "# create model\n",
        "model = KerasClassifier(build_fn=create_model, epochs=50, batch_size=10, verbose=0)\n",
        "# define the grid search parameters\n",
        "grid = GridSearchCV(estimator=model, param_grid=param_grid, n_jobs=-1, cv=3)\n",
        "grid_result = grid.fit(x, y)\n",
        "grid_result.best_params_\n",
        "grid_result.best_score_\n",
        "print(\"Best: %f using %s\" % (grid_result.best_score_, grid_result.best_params_))\n",
        "means = grid_result.cv_results_['mean_test_score']\n",
        "stds = grid_result.cv_results_['std_test_score']\n",
        "params = grid_result.cv_results_['params']\n",
        "for mean, stdev, param in zip(means, stds, params):\n",
        "    print(\"%f (%f) with: %r\" % (mean, stdev, param))"
      ]
    },
    {
      "cell_type": "code",
      "execution_count": null,
      "id": "169be57c",
      "metadata": {
        "id": "169be57c"
      },
      "outputs": [],
      "source": [
        ""
      ]
    }
  ],
  "metadata": {
    "kernelspec": {
      "display_name": "Python 3 (ipykernel)",
      "language": "python",
      "name": "python3"
    },
    "language_info": {
      "codemirror_mode": {
        "name": "ipython",
        "version": 3
      },
      "file_extension": ".py",
      "mimetype": "text/x-python",
      "name": "python",
      "nbconvert_exporter": "python",
      "pygments_lexer": "ipython3",
      "version": "3.9.7"
    },
    "colab": {
      "name": "Deep_Learning_Opeyemi_Adeniran.ipynb",
      "provenance": [],
      "include_colab_link": true
    }
  },
  "nbformat": 4,
  "nbformat_minor": 5
}